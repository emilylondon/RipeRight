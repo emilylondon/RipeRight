{
 "cells": [
  {
   "cell_type": "code",
   "execution_count": 1,
   "id": "f70c206a-7297-4983-92b6-e70b36a61051",
   "metadata": {},
   "outputs": [],
   "source": [
    "import pandas as pd\n",
    "from numpy import mean\n",
    "from numpy import std\n",
    "from sklearn.model_selection import train_test_split\n",
    "from sklearn.linear_model import LogisticRegression\n",
    "from sklearn.metrics import accuracy_score\n",
    "from sklearn.model_selection import RepeatedStratifiedKFold\n",
    "from sklearn.model_selection import cross_val_score\n",
    "# from imblearn.over_sampling import SMOTEN\n",
    "# from imblearn.over_sampling import SMOTENC\n",
    "\n",
    "\n",
    "\n",
    "\n",
    "BRIX_MAX_UNDERRIPE = 11.5       # under 11.5: underripe\n",
    "BRIX_MIN_OVERRIPE = 12.1        # over 12.1: overripe\n",
    "\n",
    "# lambda function to make new column, 'Result': \n",
    "#   0 if underripe  (Brix < 11.5)\n",
    "#   1 if good       (11.5 <= Brix <= 12.1)\n",
    "#   2 if overripe   (12.1 < Brix)\n",
    "\n",
    "\n",
    "ripenessFunc = lambda brix: 0 if (brix < BRIX_MAX_UNDERRIPE) else (1 if (brix >= 11.5 and brix <=12.1) else 2)\n",
    "\n",
    "df = pd.read_csv('nir_to_brix_data.csv')\n",
    "df['Result'] = df['Brix'].apply(ripenessFunc)\n",
    "# print(df)\n",
    "\n",
    "X = df[['R', 'S', 'T', 'U', 'V', 'W']]\n",
    "y = df['Result']\n",
    "\n",
    "\n",
    "# print(\"LinearRegression accuracy_test :\", accuracy_test)\n"
   ]
  },
  {
   "cell_type": "code",
   "execution_count": 2,
   "id": "f00b94e4-575a-49ab-94aa-72022fc1623a",
   "metadata": {},
   "outputs": [
    {
     "name": "stdout",
     "output_type": "stream",
     "text": [
      "df: X.shape: (15, 6) \ty.shape: (15,)\n",
      "X_train:\n",
      "               R           S           T           U           V           W\n",
      "10  2340.661667  786.923333  185.436667  100.510000  136.655000   89.088333\n",
      "14  1939.240556  578.190833  162.075000   87.381944  118.747222   72.599444\n",
      "6   1801.503333  343.708333  269.926667  134.708333  139.183333   70.840000\n",
      "5   2512.660000  782.271667  187.110000  103.141667  149.158333   94.990000\n",
      "2   2780.533333  811.676667  201.511667  111.173333  165.446667  101.966667\n",
      "0   2554.491667  665.986667  196.110000  108.126667  157.863333   94.453333\n",
      "4   1338.470000  243.870000  264.266667  128.615000  112.358333   56.171667\n",
      "12  2014.618333  606.348333  148.530000   82.375000  120.643333   74.418333\n",
      "8   2619.488333  757.021667  180.421667  101.205000  155.895000   95.886667\n",
      "11  1858.956667  555.515000  133.355000   74.068333  111.233333   68.695000\n",
      "1   2123.056667  611.166667  165.118333   90.541667  140.306667   79.068333\n",
      "7   2077.006667  541.061944  216.407500  112.533333  139.394722   79.157778\n",
      "y_train:\n",
      " 10    1\n",
      "14    0\n",
      "6     1\n",
      "5     2\n",
      "2     1\n",
      "0     0\n",
      "4     0\n",
      "12    1\n",
      "8     1\n",
      "11    0\n",
      "1     0\n",
      "7     1\n",
      "Name: Result, dtype: int64\n",
      "\n",
      "X_test:\n",
      "               R           S           T           U           V          W\n",
      "3   1905.816667  453.678333  210.511667  107.020000  129.915000  71.910000\n",
      "13  1318.540000  289.886667  182.351667   91.648333   95.785000  51.160000\n",
      "9   1483.178333  473.450000  142.355000   74.485000   92.271667  56.348333\n",
      "y_test:\n",
      " 3     0\n",
      "13    0\n",
      "9     2\n",
      "Name: Result, dtype: int64\n"
     ]
    }
   ],
   "source": [
    "\n",
    "# expand dataset\n",
    "# oversample = SMOTENC(categorical_features=[0,1,2], random_state=1)\n",
    "# oversample = SMOTE(sampling_strategy=\"all\", k_neighbors = 2, random_state=1)\n",
    "# X, y = oversample.fit_resample(X, y)\n",
    "\n",
    "print(\"df: X.shape:\", X.shape, \"\\ty.shape:\", y.shape)\n",
    "\n",
    "X_train, X_test, y_train, y_test = train_test_split(\n",
    "    X, y, test_size=0.2, random_state=1002)\n",
    "\n",
    "print(\"X_train:\\n\", X_train)\n",
    "print(\"y_train:\\n\", y_train)\n",
    "\n",
    "print(\"\\nX_test:\\n\", X_test)\n",
    "print(\"y_test:\\n\", y_test)"
   ]
  },
  {
   "cell_type": "code",
   "execution_count": 4,
   "id": "77c4123b-71aa-457e-ba92-f7d315e10e40",
   "metadata": {},
   "outputs": [
    {
     "name": "stdout",
     "output_type": "stream",
     "text": [
      "Mean Accuracy: 0.388 (0.187)\n",
      "Train score: 0.9166666666666666\n",
      "Test score: 0.6666666666666666\n"
     ]
    }
   ],
   "source": [
    "# define multinomial logistic regression model using a solver that \n",
    "# supports multinomial logistic regression, such as lbfgs\n",
    "model = LogisticRegression(multi_class='multinomial', solver='newton-cg', max_iter=1000)\n",
    "\n",
    "# cross validation\n",
    "cv = RepeatedStratifiedKFold(n_splits=2, n_repeats=2, random_state=428)\n",
    "n_scores = cross_val_score(model, X, y, scoring='accuracy', cv=cv, n_jobs=-1)\n",
    "\n",
    "print('Mean Accuracy: %.3f (%.3f)' % (mean(n_scores), std(n_scores)))\n",
    "\n",
    "lr = model.fit(X_train, y_train)\n",
    "\n",
    "\n",
    "X_pred = lr.predict(X_test)\n",
    "\n",
    "accuracytrain = lr.score(X_train, y_train)\n",
    "accuracytest = lr.score(X_test, y_test)\n",
    "\n",
    "print(\"Train score:\", accuracytrain)\n",
    "print(\"Test score:\", accuracytest)\n",
    "# accuracy_train = model.score(X_train,y_train)\n",
    "# accuracy_test  = model.score(X_test,y_test)\n",
    "# coefs = model.coef_\n",
    "# # prediction = reg.predict(y_test)\n",
    "# x_pred_train = model.predict(X_train)\n",
    "# x_pred_test = model.predict(X_test)\n",
    "\n",
    "# print(\"\\n\\nLinearRegression train score:\", accuracy_train)\n",
    "# print(\"LinearRegression test score: \", accuracy_test)\n",
    "# print(\"LinearRegression coefs:\", coefs)\n",
    "\n",
    "# print(\"\\n\\nLinearRegression x_prediction_train:\", x_pred_train)\n",
    "# print(\"LinearRegression x_prediction_test :\", x_pred_train)\n",
    "\n",
    "# print(\"\\n\\nLinearRegression accuracy_train:\", accuracy_train)"
   ]
  },
  {
   "cell_type": "code",
   "execution_count": 5,
   "id": "2801da71-c47d-4349-8803-4371ede6fbab",
   "metadata": {},
   "outputs": [
    {
     "data": {
      "text/plain": [
       "['model.joblib']"
      ]
     },
     "execution_count": 5,
     "metadata": {},
     "output_type": "execute_result"
    }
   ],
   "source": [
    "from joblib import dump, load\n",
    "dump(model, 'model.joblib')\n"
   ]
  },
  {
   "cell_type": "code",
   "execution_count": null,
   "id": "a4cb9397-0021-4a71-841d-9cd37453d408",
   "metadata": {},
   "outputs": [],
   "source": [
    "!pip show scikitlearn"
   ]
  },
  {
   "cell_type": "code",
   "execution_count": null,
   "id": "34f834fa-50fe-48c7-b126-2e9ce723ae9d",
   "metadata": {},
   "outputs": [],
   "source": []
  },
  {
   "cell_type": "code",
   "execution_count": null,
   "id": "edbeb909-c9ac-44b1-b035-f162998f684b",
   "metadata": {},
   "outputs": [],
   "source": []
  }
 ],
 "metadata": {
  "environment": {
   "kernel": "python3",
   "name": "common-cpu.m89",
   "type": "gcloud",
   "uri": "gcr.io/deeplearning-platform-release/base-cpu:m89"
  },
  "kernelspec": {
   "display_name": "Python 3",
   "language": "python",
   "name": "python3"
  },
  "language_info": {
   "codemirror_mode": {
    "name": "ipython",
    "version": 3
   },
   "file_extension": ".py",
   "mimetype": "text/x-python",
   "name": "python",
   "nbconvert_exporter": "python",
   "pygments_lexer": "ipython3",
   "version": "3.7.12"
  }
 },
 "nbformat": 4,
 "nbformat_minor": 5
}
